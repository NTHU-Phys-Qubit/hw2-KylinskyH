{
 "cells": [
  {
   "cell_type": "code",
   "execution_count": 2,
   "metadata": {},
   "outputs": [
    {
     "data": {
      "text/plain": [
       "array([[16,  0],\n",
       "       [ 0,  1]])"
      ]
     },
     "execution_count": 2,
     "metadata": {},
     "output_type": "execute_result"
    }
   ],
   "source": [
    "import numpy as np\n",
    "import matplotlib.pyplot as plt\n",
    "from numpy import linalg as LA\n",
    "val , vec = LA.eig( np.array([ [1,2] , [2,3] ]) )\n",
    "#np.trace( np.diag( (1,-1,3 ) ) )\n",
    "a = np.array( [[2,0],[0,1]])\n",
    "a = a@a@a@a\n",
    "a\n"
   ]
  },
  {
   "cell_type": "code",
   "execution_count": 63,
   "metadata": {},
   "outputs": [
    {
     "name": "stderr",
     "output_type": "stream",
     "text": [
      "C:\\ProgramData\\Anaconda3\\lib\\site-packages\\ipykernel_launcher.py:36: RuntimeWarning: overflow encountered in matmul\n"
     ]
    },
    {
     "data": {
      "image/png": "[encoded data removed]",
      "text/plain": [
       "<Figure size 432x288 with 1 Axes>"
      ]
     },
     "metadata": {
      "needs_background": "light"
     },
     "output_type": "display_data"
    }
   ],
   "source": [
    "def transfer_mat(tau, B): #return the transfer matrix given temperature and field B\n",
    "    beta = 1/tau\n",
    "    J = 1\n",
    "    res = np.array( [ [ np.exp(beta*J+ beta*B ), np.exp(-beta*J) ], \n",
    "                         [ np.exp(-beta*J), np.exp(beta*J - beta*B ) ] ]  )\n",
    "    return res\n",
    "\n",
    "def eig_value(matrix): # return the eig values(int array) of the matrix \n",
    "    res , a = LA.eig( matrix )\n",
    "    return res\n",
    "\n",
    "def exact_Z(N,tau,B): # Give the number of site, temperture ,and field B, return the exact partition function\n",
    "    T =  transfer_mat(tau,B)\n",
    "    for i in range(N):\n",
    "        T = T@T\n",
    "    return np.trace(T) \n",
    "def approx_Z(N,tau,B):# Give the number of site, temperture ,and field B, return the approx. partition function\n",
    "    T =  transfer_mat(tau,B)\n",
    "    eig , v = LA.eig(T)\n",
    "    z = max( eig[0], eig[1] )\n",
    "    res = z\n",
    "    for i in range(N-1):\n",
    "        res = res*z\n",
    "    return res #return lambda_+ \n",
    "\n",
    "def exp(matrix, n):\n",
    "    for i in range(n):\n",
    "        matrix = matrix @ matrix\n",
    "    return matrix\n",
    "\n",
    "\n",
    "def correlation(N,tau,B , j): #It returns the expected value of the correlation between the 0th spin & the jth spin\n",
    "    J = 1\n",
    "    T = transfer_mat(tau ,B)\n",
    "    Pauli = np.array([ [1,0] ,[0,-1] ]) #This is the Pauli matrix in z direction\n",
    "    tr = np.trace ( Pauli @ exp(T,j) @ Pauli @ exp(T,N-j) ) \n",
    "    #print(approx_Z(N,tau,B))\n",
    "    return tr/approx_Z(N,tau,B)\n",
    "\n",
    "def draw_correl(N, tau,B):\n",
    "    y = []\n",
    "    x = []\n",
    "    for i in range(int(N/2)):\n",
    "        x+=[i]\n",
    "        y += [correlation(N,tau,B,i)]\n",
    "    plt.plot(x,y)\n",
    "    return #y,x\n",
    "\n",
    "tau = 100\n",
    "b = 1 \n",
    "\n",
    "draw_correl(10,tau,b)\n"
   ]
  }
 ],
 "metadata": {
  "kernelspec": {
   "display_name": "Python 3",
   "language": "python",
   "name": "python3"
  },
  "language_info": {
   "codemirror_mode": {
    "name": "ipython",
    "version": 3
   },
   "file_extension": ".py",
   "mimetype": "text/x-python",
   "name": "python",
   "nbconvert_exporter": "python",
   "pygments_lexer": "ipython3",
   "version": "3.7.6"
  }
 },
 "nbformat": 4,
 "nbformat_minor": 4
}
